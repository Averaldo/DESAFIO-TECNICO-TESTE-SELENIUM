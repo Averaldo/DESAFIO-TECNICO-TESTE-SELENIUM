{
  "nbformat": 4,
  "nbformat_minor": 0,
  "metadata": {
    "colab": {
      "provenance": [],
      "mount_file_id": "1Q3bQ8WWrdyWHjTM-Y31bh97LVwiPHgLq",
      "authorship_tag": "ABX9TyMpD9WGSo2z2uweg7GPejq+",
      "include_colab_link": true
    },
    "kernelspec": {
      "name": "python3",
      "display_name": "Python 3"
    },
    "language_info": {
      "name": "python"
    }
  },
  "cells": [
    {
      "cell_type": "markdown",
      "metadata": {
        "id": "view-in-github",
        "colab_type": "text"
      },
      "source": [
        "<a href=\"https://colab.research.google.com/github/Averaldo/DESAFIO-TECNICO-TESTE-SELENIUM/blob/main/Untitled0.ipynb\" target=\"_parent\"><img src=\"https://colab.research.google.com/assets/colab-badge.svg\" alt=\"Open In Colab\"/></a>"
      ]
    },
    {
      "cell_type": "markdown",
      "source": [
        "# Projeto de testes"
      ],
      "metadata": {
        "id": "Tc6gTP1I_8JA"
      }
    },
    {
      "cell_type": "markdown",
      "source": [
        "##Areas dos imports"
      ],
      "metadata": {
        "id": "B36jj2Ux-z9O"
      }
    },
    {
      "cell_type": "code",
      "execution_count": 2,
      "metadata": {
        "id": "xqDzvydd8w-K"
      },
      "outputs": [],
      "source": [
        "import pandas as pd"
      ]
    },
    {
      "cell_type": "code",
      "source": [
        "import numpy as np"
      ],
      "metadata": {
        "id": "8kQ16gtl-OIK"
      },
      "execution_count": 3,
      "outputs": []
    },
    {
      "cell_type": "markdown",
      "source": [
        "##Area de retorno do prints"
      ],
      "metadata": {
        "id": "0tUSESM_-xUL"
      }
    },
    {
      "cell_type": "code",
      "source": [
        "print(\"Teste AI\", \"Nome: Averaldo\")"
      ],
      "metadata": {
        "colab": {
          "base_uri": "https://localhost:8080/"
        },
        "id": "1nVOgUnx-Vdu",
        "outputId": "c6a6a5e9-b7c1-40b3-ea59-8139155f9ee7"
      },
      "execution_count": 7,
      "outputs": [
        {
          "output_type": "stream",
          "name": "stdout",
          "text": [
            "Teste AI Nome: Averaldo\n"
          ]
        }
      ]
    },
    {
      "cell_type": "code",
      "source": [],
      "metadata": {
        "id": "KsYadHalBi5j"
      },
      "execution_count": null,
      "outputs": []
    },
    {
      "cell_type": "code",
      "source": [
        "print(\"Nome: Averaldo\")"
      ],
      "metadata": {
        "colab": {
          "base_uri": "https://localhost:8080/"
        },
        "id": "3F4cZI4t-oMT",
        "outputId": "dd347026-1617-4d6e-bb2b-5e5543433eae"
      },
      "execution_count": 5,
      "outputs": [
        {
          "output_type": "stream",
          "name": "stdout",
          "text": [
            "Nome: Averaldo\n"
          ]
        }
      ]
    },
    {
      "cell_type": "code",
      "source": [
        "print(\"Idade: 48\")"
      ],
      "metadata": {
        "colab": {
          "base_uri": "https://localhost:8080/"
        },
        "id": "9j7BIwqi_XLL",
        "outputId": "bd2b017e-56ca-472b-89e1-0f1e28281807"
      },
      "execution_count": 6,
      "outputs": [
        {
          "output_type": "stream",
          "name": "stdout",
          "text": [
            "Idade: 48\n"
          ]
        }
      ]
    }
  ]
}